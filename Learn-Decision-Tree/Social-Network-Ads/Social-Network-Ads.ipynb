{
 "cells": [
  {
   "cell_type": "code",
   "execution_count": 1,
   "metadata": {},
   "outputs": [],
   "source": [
    "# Importing the libraries\n",
    "import pandas as pd\n",
    "import numpy as np\n",
    "from matplotlib import pyplot as plt\n",
    "from sklearn.preprocessing import StandardScaler\n",
    "from sklearn.model_selection import train_test_split\n",
    "from sklearn.tree import DecisionTreeClassifier\n",
    "from matplotlib.colors import ListedColormap\n",
    "from sklearn.metrics import confusion_matrix, r2_score, plot_confusion_matrix\n",
    "import joblib"
   ]
  },
  {
   "cell_type": "code",
   "execution_count": 2,
   "metadata": {},
   "outputs": [
    {
     "data": {
      "text/html": [
       "<div>\n",
       "<style scoped>\n",
       "    .dataframe tbody tr th:only-of-type {\n",
       "        vertical-align: middle;\n",
       "    }\n",
       "\n",
       "    .dataframe tbody tr th {\n",
       "        vertical-align: top;\n",
       "    }\n",
       "\n",
       "    .dataframe thead th {\n",
       "        text-align: right;\n",
       "    }\n",
       "</style>\n",
       "<table border=\"1\" class=\"dataframe\">\n",
       "  <thead>\n",
       "    <tr style=\"text-align: right;\">\n",
       "      <th></th>\n",
       "      <th>Unnamed: 0</th>\n",
       "      <th>User ID</th>\n",
       "      <th>Gender</th>\n",
       "      <th>Age</th>\n",
       "      <th>EstimatedSalary</th>\n",
       "      <th>Purchased</th>\n",
       "    </tr>\n",
       "  </thead>\n",
       "  <tbody>\n",
       "    <tr>\n",
       "      <th>0</th>\n",
       "      <td>0</td>\n",
       "      <td>15624510</td>\n",
       "      <td>Male</td>\n",
       "      <td>19</td>\n",
       "      <td>19000</td>\n",
       "      <td>0</td>\n",
       "    </tr>\n",
       "    <tr>\n",
       "      <th>1</th>\n",
       "      <td>1</td>\n",
       "      <td>15810944</td>\n",
       "      <td>Male</td>\n",
       "      <td>35</td>\n",
       "      <td>20000</td>\n",
       "      <td>0</td>\n",
       "    </tr>\n",
       "    <tr>\n",
       "      <th>2</th>\n",
       "      <td>2</td>\n",
       "      <td>15668575</td>\n",
       "      <td>Female</td>\n",
       "      <td>26</td>\n",
       "      <td>43000</td>\n",
       "      <td>0</td>\n",
       "    </tr>\n",
       "    <tr>\n",
       "      <th>3</th>\n",
       "      <td>3</td>\n",
       "      <td>15603246</td>\n",
       "      <td>Female</td>\n",
       "      <td>27</td>\n",
       "      <td>57000</td>\n",
       "      <td>0</td>\n",
       "    </tr>\n",
       "    <tr>\n",
       "      <th>4</th>\n",
       "      <td>4</td>\n",
       "      <td>15804002</td>\n",
       "      <td>Male</td>\n",
       "      <td>19</td>\n",
       "      <td>76000</td>\n",
       "      <td>0</td>\n",
       "    </tr>\n",
       "    <tr>\n",
       "      <th>...</th>\n",
       "      <td>...</td>\n",
       "      <td>...</td>\n",
       "      <td>...</td>\n",
       "      <td>...</td>\n",
       "      <td>...</td>\n",
       "      <td>...</td>\n",
       "    </tr>\n",
       "    <tr>\n",
       "      <th>295</th>\n",
       "      <td>295</td>\n",
       "      <td>15725794</td>\n",
       "      <td>Female</td>\n",
       "      <td>36</td>\n",
       "      <td>63000</td>\n",
       "      <td>0</td>\n",
       "    </tr>\n",
       "    <tr>\n",
       "      <th>296</th>\n",
       "      <td>296</td>\n",
       "      <td>15673539</td>\n",
       "      <td>Male</td>\n",
       "      <td>42</td>\n",
       "      <td>73000</td>\n",
       "      <td>1</td>\n",
       "    </tr>\n",
       "    <tr>\n",
       "      <th>297</th>\n",
       "      <td>297</td>\n",
       "      <td>15705298</td>\n",
       "      <td>Female</td>\n",
       "      <td>43</td>\n",
       "      <td>112000</td>\n",
       "      <td>1</td>\n",
       "    </tr>\n",
       "    <tr>\n",
       "      <th>298</th>\n",
       "      <td>298</td>\n",
       "      <td>15675791</td>\n",
       "      <td>Male</td>\n",
       "      <td>45</td>\n",
       "      <td>79000</td>\n",
       "      <td>0</td>\n",
       "    </tr>\n",
       "    <tr>\n",
       "      <th>299</th>\n",
       "      <td>299</td>\n",
       "      <td>15747043</td>\n",
       "      <td>Male</td>\n",
       "      <td>46</td>\n",
       "      <td>117000</td>\n",
       "      <td>1</td>\n",
       "    </tr>\n",
       "  </tbody>\n",
       "</table>\n",
       "<p>300 rows × 6 columns</p>\n",
       "</div>"
      ],
      "text/plain": [
       "     Unnamed: 0   User ID  Gender  Age  EstimatedSalary  Purchased\n",
       "0             0  15624510    Male   19            19000          0\n",
       "1             1  15810944    Male   35            20000          0\n",
       "2             2  15668575  Female   26            43000          0\n",
       "3             3  15603246  Female   27            57000          0\n",
       "4             4  15804002    Male   19            76000          0\n",
       "..          ...       ...     ...  ...              ...        ...\n",
       "295         295  15725794  Female   36            63000          0\n",
       "296         296  15673539    Male   42            73000          1\n",
       "297         297  15705298  Female   43           112000          1\n",
       "298         298  15675791    Male   45            79000          0\n",
       "299         299  15747043    Male   46           117000          1\n",
       "\n",
       "[300 rows x 6 columns]"
      ]
     },
     "execution_count": 2,
     "metadata": {},
     "output_type": "execute_result"
    }
   ],
   "source": [
    "dataset_train = pd.read_csv(\"/home/tintin/Study/Data-Science/Statistical-Machine-Learning/Learn-Decision-Tree/Datasets/Social_Network_Ads_Train.csv\")\n",
    "dataset_test = pd.read_csv(\"/home/tintin/Study/Data-Science/Statistical-Machine-Learning/Learn-Decision-Tree/Datasets/Social_Network_Ads_Test.csv\")\n",
    "dataset_train"
   ]
  },
  {
   "cell_type": "code",
   "execution_count": 3,
   "metadata": {},
   "outputs": [],
   "source": [
    "# Data preprocessing\n",
    "X_train = dataset_train.iloc[:,[3,4]].values\n",
    "Y_train = dataset_train.iloc[:,5].values\n",
    "X_test = dataset_test.iloc[:,[3,4]].values\n",
    "Y_test = dataset_test.iloc[:,5].values"
   ]
  },
  {
   "cell_type": "code",
   "execution_count": 16,
   "metadata": {},
   "outputs": [
    {
     "name": "stdout",
     "output_type": "stream",
     "text": [
      "[[-1.58949311 -1.46043852]\n",
      " [-0.01313631 -1.43151322]\n",
      " [-0.89983701 -0.76623126]\n",
      " [-0.80131471 -0.36127703]\n",
      " [-1.58949311  0.18830372]\n",
      " [-0.80131471 -0.33235173]\n",
      " [-0.80131471  0.41970614]\n",
      " [-0.30870321  2.3287761 ]\n",
      " [-0.99835931 -1.05548429]\n",
      " [-0.01313631 -0.12987461]\n",
      " [-0.89983701  0.30400493]\n",
      " [-0.89983701 -0.50590354]\n",
      " [-1.49097081  0.47755674]\n",
      " [-0.30870321 -1.48936382]\n",
      " [-1.68801541  0.36185553]\n",
      " [-0.60427011  0.30400493]\n",
      " [ 1.1691313  -1.28688671]\n",
      " [ 0.9720867  -1.2579614 ]\n",
      " [ 1.070609   -1.2001108 ]\n",
      " [ 1.2676536  -1.1711855 ]\n",
      " [ 0.9720867  -1.37366261]\n",
      " [ 1.1691313  -0.59267945]\n",
      " [ 1.2676536  -0.82408187]\n",
      " [ 0.9720867  -1.37366261]\n",
      " [ 1.070609   -1.34473731]\n",
      " [ 1.1691313  -1.43151322]\n",
      " [ 1.3661759  -1.2001108 ]\n",
      " [ 1.1691313  -1.14226019]\n",
      " [-0.60427011 -0.76623126]\n",
      " [-0.40722551 -1.48936382]\n",
      " [-0.40722551  0.13045311]\n",
      " [-0.80131471  1.95274717]\n",
      " [-1.39244851 -1.54721443]\n",
      " [-0.70279241 -0.73730596]\n",
      " [-0.80131471  0.59325795]\n",
      " [-0.01313631 -1.2290361 ]\n",
      " [-0.21018091 -1.2001108 ]\n",
      " [-0.50574781 -0.59267945]\n",
      " [-0.89983701  0.07260251]\n",
      " [-0.80131471 -1.11333489]\n",
      " [-0.80131471 -1.51828913]\n",
      " [-0.21018091 -0.53482884]\n",
      " [-0.01313631  1.1139134 ]\n",
      " [-0.50574781 -1.57613973]\n",
      " [-0.70279241  0.41970614]\n",
      " [-1.19540391 -1.43151322]\n",
      " [-0.99835931  0.27507963]\n",
      " [-0.80131471 -0.44805294]\n",
      " [-0.50574781  1.89489657]\n",
      " [-0.40722551  0.56433265]\n",
      " [-1.09688161 -1.08440959]\n",
      " [-1.68801541 -0.73730596]\n",
      " [-0.60427011  0.39078084]\n",
      " [-0.01313631 -1.34473731]\n",
      " [-0.80131471 -0.33235173]\n",
      " [-1.09688161 -0.41912763]\n",
      " [-1.19540391 -0.62160475]\n",
      " [-0.70279241  0.27507963]\n",
      " [-1.29392621 -1.48936382]\n",
      " [-0.30870321  1.37424112]\n",
      " [-0.80131471 -1.43151322]\n",
      " [-0.99835931  0.50648205]\n",
      " [-1.19540391 -0.10094931]\n",
      " [-0.30870321  1.46101703]\n",
      " [ 2.3513989   0.39078084]\n",
      " [-1.09688161 -0.33235173]\n",
      " [-1.09688161 -1.46043852]\n",
      " [-1.19540391  0.36185553]\n",
      " [-1.29392621 -0.18772521]\n",
      " [-0.40722551 -0.0430987 ]\n",
      " [-0.99835931  0.30400493]\n",
      " [-1.09688161 -1.2290361 ]\n",
      " [-1.49097081 -1.34473731]\n",
      " [-0.21018091  1.25853991]\n",
      " [-0.30870321 -1.48936382]\n",
      " [-0.11165861  1.22961461]\n",
      " [-1.68801541 -0.50590354]\n",
      " [-1.29392621 -1.2290361 ]\n",
      " [-0.70279241  0.50648205]\n",
      " [-0.89983701 -1.51828913]\n",
      " [-0.50574781  0.30400493]\n",
      " [ 0.38095289 -0.79515657]\n",
      " [-1.49097081 -0.59267945]\n",
      " [-0.01313631  0.53540735]\n",
      " [-0.50574781 -0.21665052]\n",
      " [-0.40722551  1.40316642]\n",
      " [-1.09688161 -0.41912763]\n",
      " [-0.70279241  0.44863144]\n",
      " [-0.89983701  0.33293023]\n",
      " [-0.01313631 -0.56375415]\n",
      " [-1.29392621  0.33293023]\n",
      " [-0.50574781  1.34531582]\n",
      " [-0.89983701 -1.57613973]\n",
      " [-0.60427011 -1.2001108 ]\n",
      " [-0.60427011  0.39078084]\n",
      " [-0.01313631 -0.73730596]\n",
      " [-0.01313631 -1.28688671]\n",
      " [-0.70279241  1.54779294]\n",
      " [-0.01313631  0.10152781]\n",
      " [-0.70279241 -0.93978308]\n",
      " [-0.80131471  0.53540735]\n",
      " [-0.70279241 -0.30342642]\n",
      " [-0.30870321  0.47755674]\n",
      " [-0.21018091  2.2998508 ]\n",
      " [-1.58949311 -1.40258792]\n",
      " [-1.39244851  0.07260251]\n",
      " [-0.89983701 -0.99763368]\n",
      " [-0.80131471  0.56433265]\n",
      " [-0.89983701  0.47755674]\n",
      " [ 0.28243059  0.30400493]\n",
      " [ 0.38095289  0.04367721]\n",
      " [ 0.18390829  0.04367721]\n",
      " [ 0.28243059 -0.24557582]\n",
      " [ 0.18390829 -0.41912763]\n",
      " [ 0.6765198   0.30400493]\n",
      " [ 0.47947519 -0.36127703]\n",
      " [-0.01313631  0.15937842]\n",
      " [ 0.08538599 -0.50590354]\n",
      " [ 0.47947519 -0.30342642]\n",
      " [ 0.5779975  -0.30342642]\n",
      " [ 0.08538599  0.15937842]\n",
      " [ 0.18390829  0.07260251]\n",
      " [ 0.47947519  0.15937842]\n",
      " [-0.01313631 -0.47697824]\n",
      " [ 0.5779975  -0.53482884]\n",
      " [ 0.38095289 -0.24557582]\n",
      " [ 0.6765198  -0.12987461]\n",
      " [-0.89983701 -1.08440959]\n",
      " [-0.50574781 -1.51828913]\n",
      " [-0.89983701  0.41970614]\n",
      " [-0.40722551 -0.33235173]\n",
      " [-0.21018091 -1.11333489]\n",
      " [-0.50574781  0.50648205]\n",
      " [-1.39244851 -0.0430987 ]\n",
      " [-0.70279241 -0.41912763]\n",
      " [-1.19540391 -0.18772521]\n",
      " [-1.49097081  0.36185553]\n",
      " [-0.50574781  1.0849881 ]\n",
      " [-0.70279241 -0.30342642]\n",
      " [-1.58949311 -1.28688671]\n",
      " [-1.58949311  0.44863144]\n",
      " [-1.68801541 -0.0430987 ]\n",
      " [-0.01313631 -0.30342642]\n",
      " [-0.50574781  0.56433265]\n",
      " [-0.11165861 -1.28688671]\n",
      " [-1.09688161  0.56433265]\n",
      " [-0.80131471  0.76680977]\n",
      " [ 0.5779975  -1.14226019]\n",
      " [-0.60427011 -0.24557582]\n",
      " [-1.49097081  0.13045311]\n",
      " [-0.89983701 -1.57613973]\n",
      " [ 0.5779975  -0.70838066]\n",
      " [-0.40722551  0.18830372]\n",
      " [ 0.08538599 -0.56375415]\n",
      " [ 0.47947519 -0.65053005]\n",
      " [-0.40722551 -1.57613973]\n",
      " [ 1.070609   -0.30342642]\n",
      " [-0.60427011  0.15937842]\n",
      " [-0.89983701 -1.14226019]\n",
      " [-0.30870321  1.89489657]\n",
      " [-0.30870321  0.88251098]\n",
      " [-0.99835931  0.59325795]\n",
      " [ 0.18390829 -1.05548429]\n",
      " [-0.01313631 -0.91085777]\n",
      " [-0.21018091 -0.0141734 ]\n",
      " [-1.68801541  0.47755674]\n",
      " [-1.29392621 -0.41912763]\n",
      " [-0.01313631  0.04367721]\n",
      " [-0.60427011  2.2709255 ]\n",
      " [-0.60427011 -0.65053005]\n",
      " [-1.39244851  0.53540735]\n",
      " [-0.11165861  1.31639052]\n",
      " [-0.89983701  1.40316642]\n",
      " [-0.11165861 -0.76623126]\n",
      " [-0.11165861  0.07260251]\n",
      " [-1.19540391 -1.2001108 ]\n",
      " [-0.01313631 -0.65053005]\n",
      " [-0.99835931 -1.37366261]\n",
      " [-1.09688161 -1.34473731]\n",
      " [-0.40722551 -1.02655898]\n",
      " [-0.89983701 -1.54721443]\n",
      " [-0.40722551  0.04367721]\n",
      " [-0.30870321  1.37424112]\n",
      " [-0.21018091 -0.76623126]\n",
      " [-0.21018091 -0.27450112]\n",
      " [-0.40722551 -0.10094931]\n",
      " [-1.49097081  0.36185553]\n",
      " [-0.21018091 -0.82408187]\n",
      " [-0.01313631  0.07260251]\n",
      " [-0.70279241 -1.08440959]\n",
      " [-1.09688161  0.41970614]\n",
      " [-1.58949311 -1.2579614 ]\n",
      " [-0.60427011 -0.76623126]\n",
      " [-1.58949311  0.0147519 ]\n",
      " [-0.70279241  0.56433265]\n",
      " [-0.11165861 -0.76623126]\n",
      " [-0.50574781  0.27507963]\n",
      " [-1.49097081 -0.96870838]\n",
      " [-0.89983701  0.30400493]\n",
      " [-0.01313631 -1.37366261]\n",
      " [-0.01313631 -0.88193247]\n",
      " [ 1.3661759   0.13045311]\n",
      " [ 0.38095289  1.86597126]\n",
      " [ 0.5779975   0.04367721]\n",
      " [ 2.2528766   0.91143628]\n",
      " [ 1.1691313  -0.65053005]\n",
      " [ 1.9573097   1.75027005]\n",
      " [ 1.6617428   1.28746521]\n",
      " [ 0.47947519  2.09737368]\n",
      " [ 1.070609   -1.37366261]\n",
      " [ 1.2676536   0.76680977]\n",
      " [ 1.6617428   2.3287761 ]\n",
      " [ 2.3513989  -0.79515657]\n",
      " [-0.01313631 -0.33235173]\n",
      " [ 1.1691313  -0.76623126]\n",
      " [ 2.4499212   1.1139134 ]\n",
      " [ 1.3661759  -0.12987461]\n",
      " [ 0.47947519  0.24615432]\n",
      " [ 1.070609    0.76680977]\n",
      " [ 2.3513989   2.12629898]\n",
      " [ 0.5779975   0.30400493]\n",
      " [-0.01313631  0.62218326]\n",
      " [ 0.18390829  2.15522429]\n",
      " [ 2.4499212   0.94036158]\n",
      " [-0.01313631 -0.27450112]\n",
      " [ 0.18390829 -0.47697824]\n",
      " [ 0.08538599  1.63456884]\n",
      " [ 2.055832    1.83704596]\n",
      " [ 0.47947519  0.07260251]\n",
      " [ 0.6765198   0.30400493]\n",
      " [-0.01313631  2.24200019]\n",
      " [ 0.38095289 -0.79515657]\n",
      " [ 0.47947519  1.0849881 ]\n",
      " [ 1.3661759   0.47755674]\n",
      " [ 0.28243059  1.22961461]\n",
      " [ 1.070609    0.27507963]\n",
      " [ 0.47947519 -0.36127703]\n",
      " [ 0.18390829  0.30400493]\n",
      " [ 1.070609    0.36185553]\n",
      " [ 1.7602651   2.12629898]\n",
      " [ 0.6765198   2.2998508 ]\n",
      " [ 0.28243059 -0.30342642]\n",
      " [ 1.4646982   0.53540735]\n",
      " [ 2.055832    0.99821219]\n",
      " [ 0.5779975   0.07260251]\n",
      " [ 1.5632205   2.21307489]\n",
      " [-0.01313631 -0.56375415]\n",
      " [ 2.1543543   1.51886763]\n",
      " [ 0.5779975  -0.50590354]\n",
      " [-0.01313631  0.79573507]\n",
      " [ 0.8735644  -0.88193247]\n",
      " [ 0.18390829 -0.50590354]\n",
      " [ 1.2676536   1.86597126]\n",
      " [ 0.18390829  2.21307489]\n",
      " [ 1.4646982  -0.73730596]\n",
      " [ 1.6617428   0.59325795]\n",
      " [ 0.5779975   0.07260251]\n",
      " [ 0.47947519 -0.36127703]\n",
      " [ 2.2528766   0.73788447]\n",
      " [ 0.9720867   1.77919536]\n",
      " [-0.01313631  0.21722902]\n",
      " [ 0.08538599  2.15522429]\n",
      " [ 1.9573097   1.60564354]\n",
      " [-0.01313631  0.07260251]\n",
      " [ 1.2676536   0.59325795]\n",
      " [ 0.6765198   1.1139134 ]\n",
      " [ 0.47947519  0.15937842]\n",
      " [ 0.18390829  0.13045311]\n",
      " [ 1.1691313   2.15522429]\n",
      " [ 0.47947519 -0.24557582]\n",
      " [ 0.7750421   1.83704596]\n",
      " [ 2.3513989   0.18830372]\n",
      " [ 2.4499212  -0.79515657]\n",
      " [ 0.38095289  1.05606279]\n",
      " [ 2.1543543  -1.2579614 ]\n",
      " [ 2.1543543   0.13045311]\n",
      " [ 0.28243059  0.04367721]\n",
      " [ 1.3661759   0.53540735]\n",
      " [ 1.6617428  -0.91085777]\n",
      " [ 1.4646982  -0.96870838]\n",
      " [ 2.3513989   0.53540735]\n",
      " [-0.01313631 -0.24557582]\n",
      " [ 0.18390829  0.0147519 ]\n",
      " [ 1.6617428  -1.40258792]\n",
      " [ 1.2676536   2.06844838]\n",
      " [ 0.18390829  0.68003386]\n",
      " [ 0.18390829 -0.21665052]\n",
      " [ 1.2676536   1.98167247]\n",
      " [ 0.5779975   0.27507963]\n",
      " [ 0.18390829  0.24615432]\n",
      " [ 0.38095289  1.86597126]\n",
      " [ 1.3661759   0.56433265]\n",
      " [ 1.9573097  -0.88193247]\n",
      " [ 0.18390829  0.21722902]\n",
      " [-0.01313631 -0.36127703]\n",
      " [ 0.08538599 -0.18772521]\n",
      " [ 0.6765198   0.10152781]\n",
      " [ 0.7750421   1.22961461]\n",
      " [ 0.9720867   0.27507963]\n",
      " [ 1.070609    1.37424112]]\n"
     ]
    }
   ],
   "source": [
    "# Feature Scaling\n",
    "SC = StandardScaler()\n",
    "X_train = SC.fit_transform(X_train)\n",
    "X_test = SC.transform(X_test)\n",
    "print(X_train)"
   ]
  },
  {
   "cell_type": "code",
   "execution_count": 5,
   "metadata": {},
   "outputs": [],
   "source": [
    "def VisualizingDataset(X_, Y_):\n",
    "    X1 = X_[:, 0]\n",
    "    X2 = X_[:, 1]\n",
    "    for i, label in enumerate(np.unique(Y_)):\n",
    "        plt.scatter(X1[Y_ == label], X2[Y_ == label])"
   ]
  },
  {
   "cell_type": "code",
   "execution_count": 6,
   "metadata": {},
   "outputs": [
    {
     "data": {
      "image/png": "[encoded data removed]",
      "text/plain": [
       "<Figure size 432x288 with 1 Axes>"
      ]
     },
     "metadata": {},
     "output_type": "display_data"
    }
   ],
   "source": [
    "VisualizingDataset(X_train, Y_train)\n",
    "plt.show()"
   ]
  },
  {
   "cell_type": "code",
   "execution_count": 7,
   "metadata": {},
   "outputs": [
    {
     "data": {
      "text/plain": [
       "DecisionTreeClassifier(ccp_alpha=0.0, class_weight=None, criterion='entropy',\n",
       "                       max_depth=None, max_features=None, max_leaf_nodes=None,\n",
       "                       min_impurity_decrease=0.0, min_impurity_split=None,\n",
       "                       min_samples_leaf=1, min_samples_split=2,\n",
       "                       min_weight_fraction_leaf=0.0, presort='deprecated',\n",
       "                       random_state=None, splitter='best')"
      ]
     },
     "execution_count": 7,
     "metadata": {},
     "output_type": "execute_result"
    }
   ],
   "source": [
    "# Training model\n",
    "classifier = DecisionTreeClassifier(criterion = \"entropy\")\n",
    "classifier.fit(X_train, Y_train)"
   ]
  },
  {
   "cell_type": "code",
   "execution_count": 17,
   "metadata": {},
   "outputs": [
    {
     "name": "stdout",
     "output_type": "stream",
     "text": [
      "(300, 2)\n",
      "(300,)\n"
     ]
    }
   ],
   "source": [
    "print(X_train.shape)\n",
    "print(Y_train.shape)"
   ]
  },
  {
   "cell_type": "code",
   "execution_count": 8,
   "metadata": {},
   "outputs": [],
   "source": [
    "def VisualizingResult(model, X_):\n",
    "    X1 = X_[:, 0]\n",
    "    X2 = X_[:, 1]\n",
    "    X1_range = np.arange(start= X1.min()-1, stop= X1.max()+1, step = 0.01)\n",
    "    X2_range = np.arange(start= X2.min()-1, stop= X2.max()+1, step = 0.01)\n",
    "    X1_matrix, X2_matrix = np.meshgrid(X1_range, X2_range)\n",
    "    X_grid= np.array([X1_matrix.ravel(), X2_matrix.ravel()]).T\n",
    "    Y_grid= model.predict(X_grid).reshape(X1_matrix.shape)\n",
    "    plt.contourf(X1_matrix, X2_matrix, Y_grid, alpha = 0.5, cmap = ListedColormap((\"red\", \"green\")))"
   ]
  },
  {
   "cell_type": "code",
   "execution_count": 9,
   "metadata": {},
   "outputs": [
    {
     "data": {
      "image/png": "[encoded data removed]",
      "text/plain": [
       "<Figure size 432x288 with 1 Axes>"
      ]
     },
     "metadata": {},
     "output_type": "display_data"
    }
   ],
   "source": [
    "VisualizingResult(classifier, X_train)\n",
    "plt.show()"
   ]
  },
  {
   "cell_type": "code",
   "execution_count": 10,
   "metadata": {},
   "outputs": [
    {
     "data": {
      "image/png": "[encoded data removed]",
      "text/plain": [
       "<Figure size 432x288 with 1 Axes>"
      ]
     },
     "metadata": {},
     "output_type": "display_data"
    }
   ],
   "source": [
    "VisualizingResult(classifier, X_train)\n",
    "VisualizingDataset(X_train, Y_train)\n",
    "plt.show()"
   ]
  },
  {
   "cell_type": "code",
   "execution_count": 11,
   "metadata": {},
   "outputs": [
    {
     "name": "stdout",
     "output_type": "stream",
     "text": [
      "Confusion matrix of training model:  [[219   0]\n",
      " [  2  79]]\n",
      "Confusion matrix of testing model:  [[34  4]\n",
      " [17 45]]\n"
     ]
    },
    {
     "data": {
      "text/plain": [
       "<sklearn.metrics._plot.confusion_matrix.ConfusionMatrixDisplay at 0x7f5466043710>"
      ]
     },
     "execution_count": 11,
     "metadata": {},
     "output_type": "execute_result"
    },
    {
     "data": {
      "image/png": "[encoded data removed]",
      "text/plain": [
       "<Figure size 432x288 with 2 Axes>"
      ]
     },
     "metadata": {},
     "output_type": "display_data"
    },
    {
     "data": {
      "image/png": "[encoded data removed]",
      "text/plain": [
       "<Figure size 432x288 with 2 Axes>"
      ]
     },
     "metadata": {},
     "output_type": "display_data"
    }
   ],
   "source": [
    "# Evaluating training and testing model\n",
    "cm = confusion_matrix(Y_train, classifier.predict(X_train))\n",
    "plot_confusion_matrix(classifier, X_train, Y_train)\n",
    "print(\"Confusion matrix of training model: \",cm)\n",
    "\n",
    "cm = confusion_matrix(Y_test, classifier.predict(X_test))\n",
    "print(\"Confusion matrix of testing model: \",cm)\n",
    "plot_confusion_matrix(classifier, X_test, Y_test)"
   ]
  },
  {
   "cell_type": "code",
   "execution_count": 12,
   "metadata": {},
   "outputs": [
    {
     "data": {
      "image/png": "[encoded data removed]",
      "text/plain": [
       "<Figure size 432x288 with 1 Axes>"
      ]
     },
     "metadata": {},
     "output_type": "display_data"
    }
   ],
   "source": [
    "VisualizingResult(classifier, X_test)\n",
    "VisualizingDataset(X_test, Y_test)\n",
    "plt.show()"
   ]
  },
  {
   "cell_type": "code",
   "execution_count": 13,
   "metadata": {},
   "outputs": [
    {
     "name": "stdout",
     "output_type": "stream",
     "text": [
      "Accuracy of train model:  0.9933333333333333\n",
      "Accuracy of test model:  0.79\n"
     ]
    }
   ],
   "source": [
    "accuracy_score = classifier.score(X_test, Y_test)\n",
    "print(\"Accuracy of train model: \", classifier.score(X_train,Y_train))\n",
    "print(\"Accuracy of test model: \",accuracy_score)"
   ]
  },
  {
   "cell_type": "code",
   "execution_count": 14,
   "metadata": {},
   "outputs": [],
   "source": [
    "def compare(i_example):\n",
    "    x = X_test[i_example : i_example + 1]\n",
    "    y = Y_test[i_example]\n",
    "    y_pred = classifier.predict(x)\n",
    "    x_inv = SC.inverse_transform(x)\n",
    "    print(x_inv, y, y_pred)"
   ]
  },
  {
   "cell_type": "code",
   "execution_count": 15,
   "metadata": {},
   "outputs": [
    {
     "name": "stdout",
     "output_type": "stream",
     "text": [
      "[[4.70e+01 1.13e+05]] 1 [0]\n",
      "[[3.60e+01 1.25e+05]] 1 [1]\n",
      "[[3.8e+01 5.0e+04]] 0 [0]\n",
      "[[4.2e+01 7.0e+04]] 0 [1]\n",
      "[[3.9e+01 9.6e+04]] 1 [1]\n"
     ]
    }
   ],
   "source": [
    "for i in range(7, 12):\n",
    "    compare(i)"
   ]
  }
 ],
 "metadata": {
  "kernelspec": {
   "display_name": "Python 3",
   "language": "python",
   "name": "python3"
  },
  "language_info": {
   "codemirror_mode": {
    "name": "ipython",
    "version": 3
   },
   "file_extension": ".py",
   "mimetype": "text/x-python",
   "name": "python",
   "nbconvert_exporter": "python",
   "pygments_lexer": "ipython3",
   "version": "3.6.9"
  }
 },
 "nbformat": 4,
 "nbformat_minor": 2
}
