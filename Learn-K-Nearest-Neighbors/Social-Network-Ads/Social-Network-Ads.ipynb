{
 "cells": [
  {
   "cell_type": "code",
   "execution_count": 22,
   "metadata": {},
   "outputs": [],
   "source": [
    "import pandas as pd\n",
    "import numpy as np\n",
    "from matplotlib import pyplot as plt\n",
    "from sklearn.preprocessing import StandardScaler\n",
    "from sklearn.model_selection import train_test_split\n",
    "from matplotlib.colors import ListedColormap\n",
    "from sklearn.neighbors import KNeighborsClassifier\n",
    "from sklearn.metrics import confusion_matrix, r2_score\n",
    "import joblib"
   ]
  },
  {
   "cell_type": "code",
   "execution_count": 23,
   "metadata": {},
   "outputs": [
    {
     "data": {
      "text/html": [
       "<div>\n",
       "<style scoped>\n",
       "    .dataframe tbody tr th:only-of-type {\n",
       "        vertical-align: middle;\n",
       "    }\n",
       "\n",
       "    .dataframe tbody tr th {\n",
       "        vertical-align: top;\n",
       "    }\n",
       "\n",
       "    .dataframe thead th {\n",
       "        text-align: right;\n",
       "    }\n",
       "</style>\n",
       "<table border=\"1\" class=\"dataframe\">\n",
       "  <thead>\n",
       "    <tr style=\"text-align: right;\">\n",
       "      <th></th>\n",
       "      <th>Unnamed: 0</th>\n",
       "      <th>User ID</th>\n",
       "      <th>Gender</th>\n",
       "      <th>Age</th>\n",
       "      <th>EstimatedSalary</th>\n",
       "      <th>Purchased</th>\n",
       "    </tr>\n",
       "  </thead>\n",
       "  <tbody>\n",
       "    <tr>\n",
       "      <th>0</th>\n",
       "      <td>0</td>\n",
       "      <td>15624510</td>\n",
       "      <td>Male</td>\n",
       "      <td>19</td>\n",
       "      <td>19000</td>\n",
       "      <td>0</td>\n",
       "    </tr>\n",
       "    <tr>\n",
       "      <th>1</th>\n",
       "      <td>1</td>\n",
       "      <td>15810944</td>\n",
       "      <td>Male</td>\n",
       "      <td>35</td>\n",
       "      <td>20000</td>\n",
       "      <td>0</td>\n",
       "    </tr>\n",
       "    <tr>\n",
       "      <th>2</th>\n",
       "      <td>2</td>\n",
       "      <td>15668575</td>\n",
       "      <td>Female</td>\n",
       "      <td>26</td>\n",
       "      <td>43000</td>\n",
       "      <td>0</td>\n",
       "    </tr>\n",
       "    <tr>\n",
       "      <th>3</th>\n",
       "      <td>3</td>\n",
       "      <td>15603246</td>\n",
       "      <td>Female</td>\n",
       "      <td>27</td>\n",
       "      <td>57000</td>\n",
       "      <td>0</td>\n",
       "    </tr>\n",
       "    <tr>\n",
       "      <th>4</th>\n",
       "      <td>4</td>\n",
       "      <td>15804002</td>\n",
       "      <td>Male</td>\n",
       "      <td>19</td>\n",
       "      <td>76000</td>\n",
       "      <td>0</td>\n",
       "    </tr>\n",
       "    <tr>\n",
       "      <th>...</th>\n",
       "      <td>...</td>\n",
       "      <td>...</td>\n",
       "      <td>...</td>\n",
       "      <td>...</td>\n",
       "      <td>...</td>\n",
       "      <td>...</td>\n",
       "    </tr>\n",
       "    <tr>\n",
       "      <th>295</th>\n",
       "      <td>295</td>\n",
       "      <td>15725794</td>\n",
       "      <td>Female</td>\n",
       "      <td>36</td>\n",
       "      <td>63000</td>\n",
       "      <td>0</td>\n",
       "    </tr>\n",
       "    <tr>\n",
       "      <th>296</th>\n",
       "      <td>296</td>\n",
       "      <td>15673539</td>\n",
       "      <td>Male</td>\n",
       "      <td>42</td>\n",
       "      <td>73000</td>\n",
       "      <td>1</td>\n",
       "    </tr>\n",
       "    <tr>\n",
       "      <th>297</th>\n",
       "      <td>297</td>\n",
       "      <td>15705298</td>\n",
       "      <td>Female</td>\n",
       "      <td>43</td>\n",
       "      <td>112000</td>\n",
       "      <td>1</td>\n",
       "    </tr>\n",
       "    <tr>\n",
       "      <th>298</th>\n",
       "      <td>298</td>\n",
       "      <td>15675791</td>\n",
       "      <td>Male</td>\n",
       "      <td>45</td>\n",
       "      <td>79000</td>\n",
       "      <td>0</td>\n",
       "    </tr>\n",
       "    <tr>\n",
       "      <th>299</th>\n",
       "      <td>299</td>\n",
       "      <td>15747043</td>\n",
       "      <td>Male</td>\n",
       "      <td>46</td>\n",
       "      <td>117000</td>\n",
       "      <td>1</td>\n",
       "    </tr>\n",
       "  </tbody>\n",
       "</table>\n",
       "<p>300 rows × 6 columns</p>\n",
       "</div>"
      ],
      "text/plain": [
       "     Unnamed: 0   User ID  Gender  Age  EstimatedSalary  Purchased\n",
       "0             0  15624510    Male   19            19000          0\n",
       "1             1  15810944    Male   35            20000          0\n",
       "2             2  15668575  Female   26            43000          0\n",
       "3             3  15603246  Female   27            57000          0\n",
       "4             4  15804002    Male   19            76000          0\n",
       "..          ...       ...     ...  ...              ...        ...\n",
       "295         295  15725794  Female   36            63000          0\n",
       "296         296  15673539    Male   42            73000          1\n",
       "297         297  15705298  Female   43           112000          1\n",
       "298         298  15675791    Male   45            79000          0\n",
       "299         299  15747043    Male   46           117000          1\n",
       "\n",
       "[300 rows x 6 columns]"
      ]
     },
     "execution_count": 23,
     "metadata": {},
     "output_type": "execute_result"
    }
   ],
   "source": [
    "dataset_train = pd.read_csv(\"/home/tintin/Study/Data-science/Statistical-machine-learning/Learn-K-Nearest-Neighbors/Datasets/Social_Network_Ads_Train.csv\")\n",
    "dataset_test = pd.read_csv(\"/home/tintin/Study/Data-science/Statistical-machine-learning/Learn-K-Nearest-Neighbors/Datasets/Social_Network_Ads_Test.csv\")\n",
    "dataset_train"
   ]
  },
  {
   "cell_type": "code",
   "execution_count": 24,
   "metadata": {},
   "outputs": [],
   "source": [
    "X_train = dataset_train.iloc[:,[3,4]].values\n",
    "Y_train = dataset_train.iloc[:,5].values\n",
    "X_test = dataset_test.iloc[:,[3,4]].values\n",
    "Y_test = dataset_test.iloc[:,5].values"
   ]
  },
  {
   "cell_type": "code",
   "execution_count": 25,
   "metadata": {},
   "outputs": [
    {
     "name": "stderr",
     "output_type": "stream",
     "text": [
      "/home/tintin/.local/lib/python3.6/site-packages/sklearn/utils/validation.py:595: DataConversionWarning: Data with input dtype int64 was converted to float64 by StandardScaler.\n",
      "  warnings.warn(msg, DataConversionWarning)\n",
      "/home/tintin/.local/lib/python3.6/site-packages/sklearn/utils/validation.py:595: DataConversionWarning: Data with input dtype int64 was converted to float64 by StandardScaler.\n",
      "  warnings.warn(msg, DataConversionWarning)\n",
      "/home/tintin/.local/lib/python3.6/site-packages/sklearn/utils/validation.py:595: DataConversionWarning: Data with input dtype int64 was converted to float64 by StandardScaler.\n",
      "  warnings.warn(msg, DataConversionWarning)\n",
      "/home/tintin/.local/lib/python3.6/site-packages/sklearn/utils/validation.py:595: DataConversionWarning: Data with input dtype int64 was converted to float64 by StandardScaler.\n",
      "  warnings.warn(msg, DataConversionWarning)\n"
     ]
    }
   ],
   "source": [
    "SC = StandardScaler()\n",
    "X_train = SC.fit_transform(X_train)\n",
    "X_test = SC.fit_transform(X_test)"
   ]
  },
  {
   "cell_type": "code",
   "execution_count": 26,
   "metadata": {},
   "outputs": [],
   "source": [
    "def VisualizingDataset(X_,Y_):\n",
    "    X1 = X_[:,0]\n",
    "    X2 = X_[:,1]\n",
    "    for i, label in enumerate(np.unique(Y_)):\n",
    "        plt.scatter(X1[Y_==label], X2[Y_ == label], color = ListedColormap((\"red\",\"green\"))(i))"
   ]
  },
  {
   "cell_type": "code",
   "execution_count": 27,
   "metadata": {},
   "outputs": [
    {
     "data": {
      "image/png": "[encoded data removed]",
      "text/plain": [
       "<Figure size 432x288 with 1 Axes>"
      ]
     },
     "metadata": {},
     "output_type": "display_data"
    }
   ],
   "source": [
    "VisualizingDataset(X_train, Y_train)\n",
    "plt.show()"
   ]
  },
  {
   "cell_type": "code",
   "execution_count": 28,
   "metadata": {},
   "outputs": [],
   "source": [
    "def VisualizingResult(model, X_):\n",
    "    X1 = X_[:, 0]\n",
    "    X2 = X_[:, 1]\n",
    "    X1_range = np.arange(start= X1.min()-1, stop= X1.max()+1, step = 0.01)\n",
    "    X2_range = np.arange(start= X2.min()-1, stop= X2.max()+1, step = 0.01)\n",
    "    X1_matrix, X2_matrix = np.meshgrid(X1_range, X2_range)\n",
    "    X_grid= np.array([X1_matrix.ravel(), X2_matrix.ravel()]).T\n",
    "    Y_grid= model.predict(X_grid).reshape(X1_matrix.shape)\n",
    "    plt.contourf(X1_matrix, X2_matrix, Y_grid, alpha = 0.5,\n",
    "    cmap = ListedColormap((\"red\", \"green\")))"
   ]
  },
  {
   "cell_type": "code",
   "execution_count": null,
   "metadata": {
    "scrolled": true
   },
   "outputs": [
    {
     "data": {
      "image/png": "[encoded data removed]",
      "text/plain": [
       "<Figure size 1080x360 with 2 Axes>"
      ]
     },
     "metadata": {},
     "output_type": "display_data"
    },
    {
     "name": "stdout",
     "output_type": "stream",
     "text": [
      "[[207  12]\n",
      " [ 10  71]]\n",
      "[[37  1]\n",
      " [30 32]]\n"
     ]
    }
   ],
   "source": [
    "score_train = []\n",
    "score_test = []\n",
    "for i in range(3,10,2):\n",
    "    if (i%2==1):\n",
    "        classifier = KNeighborsClassifier(n_neighbors = i)\n",
    "        classifier.fit(X_train, Y_train)\n",
    "        \n",
    "        plt.figure(figsize=(15,5))\n",
    "        \n",
    "        plt.subplot(1,2,1)\n",
    "        VisualizingResult(classifier, X_train)\n",
    "        VisualizingDataset(X_train, Y_train)\n",
    "        \n",
    "        plt.subplot(1,2,2)\n",
    "        VisualizingResult(classifier, X_test)\n",
    "        VisualizingDataset(X_test, Y_test)\n",
    "        plt.show()\n",
    "        \n",
    "        cm = confusion_matrix(Y_train, classifier.predict(X_train))\n",
    "        score_train.append((float)(cm[0][1]+cm[1][0])/300)\n",
    "        print(cm)\n",
    "        cm = confusion_matrix(Y_test, classifier.predict(X_test))\n",
    "        score_test.append((float)(cm[0][1]+cm[1][0])/100)\n",
    "        print(cm)\n",
    "        \n",
    "        # save the model to disk\n",
    "    \n",
    "        filename = 'finalized_model'+str(i)+'.sav'\n",
    "        joblib.dump(classifier, filename)\n",
    "        loaded_model = joblib.load(filename)\n",
    "        result = loaded_model.score(X_test, Y_test)"
   ]
  },
  {
   "cell_type": "code",
   "execution_count": null,
   "metadata": {},
   "outputs": [],
   "source": [
    "model = np.array([3,5,7,9])\n",
    "df_compare = pd.DataFrame([model,score_train,score_test]).T\n",
    "df_compare.columns = [\"model\", \"train\", \"test\"]\n",
    "df_compare"
   ]
  },
  {
   "cell_type": "code",
   "execution_count": null,
   "metadata": {},
   "outputs": [],
   "source": [
    "def compare(i_example):\n",
    "    x = X_test[i_example : i_example + 1]\n",
    "    y = Y_test[i_example]\n",
    "    y_pred = classifier.predict(x)\n",
    "    x_inv = SC.inverse_transform(x)\n",
    "    print(x_inv, y, y_pred)"
   ]
  },
  {
   "cell_type": "code",
   "execution_count": null,
   "metadata": {},
   "outputs": [],
   "source": [
    "for i in range(7, 12):\n",
    "    compare(i)"
   ]
  }
 ],
 "metadata": {
  "kernelspec": {
   "display_name": "Python 3",
   "language": "python",
   "name": "python3"
  },
  "language_info": {
   "codemirror_mode": {
    "name": "ipython",
    "version": 3
   },
   "file_extension": ".py",
   "mimetype": "text/x-python",
   "name": "python",
   "nbconvert_exporter": "python",
   "pygments_lexer": "ipython3",
   "version": "3.6.9"
  }
 },
 "nbformat": 4,
 "nbformat_minor": 2
}
