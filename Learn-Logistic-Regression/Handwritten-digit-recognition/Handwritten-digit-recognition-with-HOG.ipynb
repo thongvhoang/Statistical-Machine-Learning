{
  "nbformat": 4,
  "nbformat_minor": 0,
  "metadata": {
    "colab": {
      "name": "Handwritten-digit-recognition-with-HOG.ipynb",
      "provenance": [],
      "collapsed_sections": []
    },
    "kernelspec": {
      "display_name": "Python 3",
      "language": "python",
      "name": "python3"
    },
    "language_info": {
      "codemirror_mode": {
        "name": "ipython",
        "version": 3
      },
      "file_extension": ".py",
      "mimetype": "text/x-python",
      "name": "python",
      "nbconvert_exporter": "python",
      "pygments_lexer": "ipython3",
      "version": "3.6.9"
    }
  },
  "cells": [
    {
      "cell_type": "code",
      "metadata": {
        "colab_type": "code",
        "id": "0FAlHVlS9_NK",
        "colab": {}
      },
      "source": [
        "import numpy as np\n",
        "import tensorflow as tf\n",
        "from tensorflow import keras\n",
        "from skimage.feature import hog\n",
        "import pandas as pd\n",
        "from matplotlib import pyplot as plt\n",
        "from sklearn.linear_model import LogisticRegression\n",
        "from sklearn.metrics import plot_confusion_matrix, r2_score, accuracy_score, classification_report\n",
        "from sklearn.preprocessing import StandardScaler\n",
        "import joblib"
      ],
      "execution_count": 0,
      "outputs": []
    },
    {
      "cell_type": "code",
      "metadata": {
        "colab_type": "code",
        "id": "_KDrJs3u9_NS",
        "colab": {}
      },
      "source": [
        "dataset = keras.datasets.mnist"
      ],
      "execution_count": 0,
      "outputs": []
    },
    {
      "cell_type": "code",
      "metadata": {
        "colab_type": "code",
        "id": "DEd5t2su9_Na",
        "colab": {}
      },
      "source": [
        "(X_trainfull, Y_trainfull), (X_testfull, Y_testfull) = dataset.load_data()"
      ],
      "execution_count": 0,
      "outputs": []
    },
    {
      "cell_type": "code",
      "metadata": {
        "colab_type": "code",
        "id": "ZPRlfGdR9_Ni",
        "outputId": "9ee689f0-1173-4184-bca9-c5ec4ef3c9cb",
        "colab": {
          "base_uri": "https://localhost:8080/",
          "height": 89
        }
      },
      "source": [
        "print(X_trainfull.shape[0],'X train samples')\n",
        "print(X_testfull.shape[0],'X test samples')\n",
        "print(Y_trainfull.shape[0], 'Y train samples')\n",
        "print(Y_testfull.shape[0],'Y test samples')"
      ],
      "execution_count": 16,
      "outputs": [
        {
          "output_type": "stream",
          "text": [
            "60000 X train samples\n",
            "10000 X test samples\n",
            "60000 Y train samples\n",
            "10000 Y test samples\n"
          ],
          "name": "stdout"
        }
      ]
    },
    {
      "cell_type": "code",
      "metadata": {
        "colab_type": "code",
        "id": "2Rvzn4Nh9_Nq",
        "outputId": "8da41744-ff19-4db1-b4dc-cf491cb66aac",
        "colab": {
          "base_uri": "https://localhost:8080/",
          "height": 215
        }
      },
      "source": [
        "pd.Series(Y_trainfull).value_counts()"
      ],
      "execution_count": 17,
      "outputs": [
        {
          "output_type": "execute_result",
          "data": {
            "text/plain": [
              "1    6742\n",
              "7    6265\n",
              "3    6131\n",
              "2    5958\n",
              "9    5949\n",
              "0    5923\n",
              "6    5918\n",
              "8    5851\n",
              "4    5842\n",
              "5    5421\n",
              "dtype: int64"
            ]
          },
          "metadata": {
            "tags": []
          },
          "execution_count": 17
        }
      ]
    },
    {
      "cell_type": "code",
      "metadata": {
        "colab_type": "code",
        "id": "_Yrh1cqk9_Nw",
        "outputId": "1d4fbb1c-7658-4f5b-f8d6-babc17a762ee",
        "colab": {
          "base_uri": "https://localhost:8080/",
          "height": 215
        }
      },
      "source": [
        "pd.Series(Y_testfull).value_counts()"
      ],
      "execution_count": 18,
      "outputs": [
        {
          "output_type": "execute_result",
          "data": {
            "text/plain": [
              "1    1135\n",
              "2    1032\n",
              "7    1028\n",
              "3    1010\n",
              "9    1009\n",
              "4     982\n",
              "0     980\n",
              "8     974\n",
              "6     958\n",
              "5     892\n",
              "dtype: int64"
            ]
          },
          "metadata": {
            "tags": []
          },
          "execution_count": 18
        }
      ]
    },
    {
      "cell_type": "code",
      "metadata": {
        "colab_type": "code",
        "id": "yg6uFRST9_N2",
        "colab": {}
      },
      "source": [
        "X_train = X_trainfull[:6000]\n",
        "Y_train = Y_trainfull[:6000]\n",
        "X_test = X_testfull[:1000]\n",
        "Y_test = Y_testfull[:1000]"
      ],
      "execution_count": 0,
      "outputs": []
    },
    {
      "cell_type": "code",
      "metadata": {
        "id": "KW6T98tKHr0x",
        "colab_type": "code",
        "colab": {}
      },
      "source": [
        "# x_train\n",
        "X_train_feature = []\n",
        "for i in range(len(X_train)):\n",
        "    feature = hog(X_train[i],orientations=9,pixels_per_cell=(14,14),cells_per_block=(1,1),block_norm=\"L2\")\n",
        "    X_train_feature.append(feature)\n",
        "X_train_feature = np.array(X_train_feature,dtype = np.float32)\n",
        "\n",
        "# x_test\n",
        "X_test_feature = []\n",
        "for i in range(len(X_test)):\n",
        "    feature = hog(X_test[i],orientations=9,pixels_per_cell=(14,14),cells_per_block=(1,1),block_norm=\"L2\")\n",
        "    X_test_feature.append(feature)\n",
        "X_test_feature = np.array(X_test_feature,dtype=np.float32)"
      ],
      "execution_count": 0,
      "outputs": []
    },
    {
      "cell_type": "code",
      "metadata": {
        "colab_type": "code",
        "id": "norLyTrCP9h7",
        "outputId": "ee00e720-6551-4f8c-9639-521d96e80099",
        "colab": {
          "base_uri": "https://localhost:8080/",
          "height": 297
        }
      },
      "source": [
        "#Training model with HOG\n",
        "model = LogisticRegression(random_state= 0, solver = 'newton-cg')\n",
        "model.fit(X_train_feature, Y_train)\n",
        "Y_pre = model.predict(X_test_feature)\n",
        "print(accuracy_score(Y_test, Y_pre))\n",
        "plot_confusion_matrix(model, X_test_feature, Y_test)\n",
        "plt.show()    "
      ],
      "execution_count": 21,
      "outputs": [
        {
          "output_type": "stream",
          "text": [
            "0.884\n"
          ],
          "name": "stdout"
        },
        {
          "output_type": "display_data",
          "data": {
            "image/png": "[encoded data removed]",
            "text/plain": [
              "<Figure size 432x288 with 2 Axes>"
            ]
          },
          "metadata": {
            "tags": [],
            "needs_background": "light"
          }
        }
      ]
    },
    {
      "cell_type": "code",
      "metadata": {
        "id": "sHQahJGaHr1S",
        "colab_type": "code",
        "colab": {
          "base_uri": "https://localhost:8080/",
          "height": 323
        },
        "outputId": "f2bc9667-f0fc-443a-f4bc-8a68a93da62e"
      },
      "source": [
        "print(classification_report(Y_test,Y_pre))"
      ],
      "execution_count": 22,
      "outputs": [
        {
          "output_type": "stream",
          "text": [
            "              precision    recall  f1-score   support\n",
            "\n",
            "           0       0.87      0.96      0.92        85\n",
            "           1       0.95      0.98      0.96       126\n",
            "           2       0.80      0.84      0.82       116\n",
            "           3       0.90      0.81      0.85       107\n",
            "           4       0.92      0.85      0.89       110\n",
            "           5       0.92      0.89      0.90        87\n",
            "           6       0.85      0.93      0.89        87\n",
            "           7       0.91      0.89      0.90        99\n",
            "           8       0.82      0.82      0.82        89\n",
            "           9       0.89      0.87      0.88        94\n",
            "\n",
            "    accuracy                           0.88      1000\n",
            "   macro avg       0.88      0.88      0.88      1000\n",
            "weighted avg       0.89      0.88      0.88      1000\n",
            "\n"
          ],
          "name": "stdout"
        }
      ]
    },
    {
      "cell_type": "code",
      "metadata": {
        "id": "1k8RigYFHr1i",
        "colab_type": "code",
        "colab": {
          "base_uri": "https://localhost:8080/",
          "height": 353
        },
        "outputId": "e66fea8c-a7f4-41f6-b3b0-47d723cb5134"
      },
      "source": [
        "# Reducing dimensions\n",
        "nsample, nx, ny = X_test.shape\n",
        "X_test = X_test.reshape(nsample,nx*ny)\n",
        "nsample, nx, ny = X_train.shape\n",
        "X_train = X_train.reshape(nsample,nx*ny)\n",
        "\n",
        "# Training model\n",
        "model = LogisticRegression(random_state= 0, solver = 'newton-cg')\n",
        "model.fit(X_train, Y_train)\n",
        "Y_pre = model.predict(X_test)\n",
        "print(accuracy_score(Y_test, Y_pre))\n",
        "plot_confusion_matrix(model, X_test, Y_test)\n",
        "plt.show()    "
      ],
      "execution_count": 23,
      "outputs": [
        {
          "output_type": "stream",
          "text": [
            "/usr/local/lib/python3.6/dist-packages/sklearn/utils/optimize.py:212: ConvergenceWarning: newton-cg failed to converge. Increase the number of iterations.\n",
            "  \"number of iterations.\", ConvergenceWarning)\n"
          ],
          "name": "stderr"
        },
        {
          "output_type": "stream",
          "text": [
            "0.844\n"
          ],
          "name": "stdout"
        },
        {
          "output_type": "display_data",
          "data": {
            "image/png": "[encoded data removed]",
            "text/plain": [
              "<Figure size 432x288 with 2 Axes>"
            ]
          },
          "metadata": {
            "tags": [],
            "needs_background": "light"
          }
        }
      ]
    },
    {
      "cell_type": "code",
      "metadata": {
        "id": "xEuMCkSnHr1w",
        "colab_type": "code",
        "colab": {
          "base_uri": "https://localhost:8080/",
          "height": 323
        },
        "outputId": "82f0d537-4aae-40b2-f5a5-ed3af9807db4"
      },
      "source": [
        "print(classification_report(Y_test,Y_pre))"
      ],
      "execution_count": 24,
      "outputs": [
        {
          "output_type": "stream",
          "text": [
            "              precision    recall  f1-score   support\n",
            "\n",
            "           0       0.92      0.91      0.91        85\n",
            "           1       0.95      0.98      0.96       126\n",
            "           2       0.88      0.82      0.85       116\n",
            "           3       0.83      0.77      0.80       107\n",
            "           4       0.91      0.87      0.89       110\n",
            "           5       0.78      0.85      0.81        87\n",
            "           6       0.93      0.87      0.90        87\n",
            "           7       0.78      0.80      0.79        99\n",
            "           8       0.69      0.74      0.72        89\n",
            "           9       0.75      0.81      0.78        94\n",
            "\n",
            "    accuracy                           0.84      1000\n",
            "   macro avg       0.84      0.84      0.84      1000\n",
            "weighted avg       0.85      0.84      0.84      1000\n",
            "\n"
          ],
          "name": "stdout"
        }
      ]
    }
  ]
}