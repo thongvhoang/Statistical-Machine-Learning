{
 "cells": [
  {
   "cell_type": "code",
   "execution_count": 2,
   "metadata": {},
   "outputs": [],
   "source": [
    "import pandas as pd\n",
    "import matplotlib.pyplot as plt\n",
    "import numpy as np\n",
    "from sklearn.metrics import confusion_matrix, r2_score, plot_confusion_matrix, accuracy_score"
   ]
  },
  {
   "cell_type": "code",
   "execution_count": 3,
   "metadata": {},
   "outputs": [],
   "source": [
    "Train_Set = pd.read_csv(\"/home/tintin/Study/Data-Science/Statistical-Machine-Learning/Learn-Random-Forest-Regression/Datasets/Position_SalariesTrain.csv\")\n",
    "Test_Set = pd.read_csv(\"/home/tintin/Study/Data-Science/Statistical-Machine-Learning/Learn-Random-Forest-Regression/Datasets/Position_SalariesTest.csv\")"
   ]
  },
  {
   "cell_type": "code",
   "execution_count": 4,
   "metadata": {},
   "outputs": [],
   "source": [
    "X_train = Train_Set.iloc[:, 1:-1].values\n",
    "Y_train = Train_Set.iloc[:, -1].values.reshape(-1,1)\n",
    "X_test = Test_Set.iloc[:, 1:-1].values\n",
    "Y_test = Test_Set.iloc[:, -1].values.reshape(-1,1)\n"
   ]
  },
  {
   "cell_type": "code",
   "execution_count": 5,
   "metadata": {},
   "outputs": [
    {
     "name": "stdout",
     "output_type": "stream",
     "text": [
      "(7, 1)\n",
      "(3, 1)\n"
     ]
    }
   ],
   "source": [
    "print(X_train.shape)\n",
    "print(X_test.shape)"
   ]
  },
  {
   "cell_type": "code",
   "execution_count": 6,
   "metadata": {},
   "outputs": [
    {
     "name": "stderr",
     "output_type": "stream",
     "text": [
      "/usr/lib/python3/dist-packages/ipykernel_launcher.py:3: DataConversionWarning: A column-vector y was passed when a 1d array was expected. Please change the shape of y to (n_samples,), for example using ravel().\n",
      "  This is separate from the ipykernel package so we can avoid doing imports until\n"
     ]
    },
    {
     "data": {
      "text/plain": [
       "RandomForestRegressor(bootstrap=True, ccp_alpha=0.0, criterion='mse',\n",
       "                      max_depth=None, max_features='auto', max_leaf_nodes=None,\n",
       "                      max_samples=None, min_impurity_decrease=0.0,\n",
       "                      min_impurity_split=None, min_samples_leaf=1,\n",
       "                      min_samples_split=2, min_weight_fraction_leaf=0.0,\n",
       "                      n_estimators=10, n_jobs=None, oob_score=False,\n",
       "                      random_state=None, verbose=0, warm_start=False)"
      ]
     },
     "execution_count": 6,
     "metadata": {},
     "output_type": "execute_result"
    }
   ],
   "source": [
    "from sklearn.ensemble import RandomForestRegressor\n",
    "regressor = RandomForestRegressor(n_estimators = 10)\n",
    "regressor.fit(X_train, Y_train)"
   ]
  },
  {
   "cell_type": "code",
   "execution_count": 7,
   "metadata": {},
   "outputs": [
    {
     "data": {
      "image/png": "[encoded data removed]",
      "text/plain": [
       "<Figure size 1080x360 with 3 Axes>"
      ]
     },
     "metadata": {},
     "output_type": "display_data"
    }
   ],
   "source": [
    "plt.figure(figsize=(15,5))\n",
    "plt.subplot(1,3,1)\n",
    "\n",
    "plt.scatter(X_train, Y_train, color = \"red\")\n",
    "plt.title(\"Position Level vs Salary\")\n",
    "plt.xlabel(\"Position Level\")\n",
    "plt.ylabel(\"Salary (dollars/year)\")\n",
    "\n",
    "plt.subplot(1,3,2)\n",
    "X_dummy = np.arange(0, 10, 0.1).reshape(-1, 1)\n",
    "Y_dummy_pred = regressor.predict(X_dummy)\n",
    "plt.scatter(X_train, Y_train, color = \"red\")\n",
    "plt.plot(X_dummy, Y_dummy_pred, color = \"blue\")\n",
    "plt.title(\"Position Level vs Salary (Train Set)\")\n",
    "plt.xlabel(\"Position Level\")\n",
    "plt.ylabel(\"Salary (dollars/year)\")\n",
    "\n",
    "plt.subplot(1,3,3)\n",
    "X_dummy = np.arange(0, 10, 0.1).reshape(-1, 1)\n",
    "Y_dummy_pred = regressor.predict(X_dummy)\n",
    "plt.scatter(X_test, Y_test, color = \"red\")\n",
    "plt.plot(X_dummy, Y_dummy_pred, color = \"blue\")\n",
    "plt.title(\"Position Level vs Salary (Train Set)\")\n",
    "plt.xlabel(\"Position Level\")\n",
    "plt.ylabel(\"Salary (dollars/year)\")\n",
    "\n",
    "plt.show()"
   ]
  },
  {
   "cell_type": "code",
   "execution_count": 8,
   "metadata": {},
   "outputs": [
    {
     "name": "stdout",
     "output_type": "stream",
     "text": [
      "0.0\n",
      "0.0\n",
      "0.7856273177724454\n",
      "0.9291764790350373\n"
     ]
    }
   ],
   "source": [
    "# Evaluate model\n",
    "print(accuracy_score(regressor.predict(X_train), Y_train))\n",
    "print(accuracy_score(regressor.predict(X_test), Y_test))\n",
    "\n",
    "print(r2_score(Y_train,regressor.predict(X_train)))\n",
    "print(r2_score(Y_test,regressor.predict(X_test)))"
   ]
  },
  {
   "cell_type": "code",
   "execution_count": 9,
   "metadata": {},
   "outputs": [],
   "source": [
    "def compare(i_example, X, Y):\n",
    "    x = X[i_example : i_example + 1]\n",
    "    y = Y[i_example]\n",
    "    y_pred = regressor.predict(x)\n",
    "    print(x, y, y_pred)"
   ]
  },
  {
   "cell_type": "code",
   "execution_count": 10,
   "metadata": {},
   "outputs": [
    {
     "name": "stdout",
     "output_type": "stream",
     "text": [
      "[[9]] [500000] [410000.]\n",
      "[[3]] [60000] [52500.]\n",
      "[[5]] [110000] [118000.]\n"
     ]
    }
   ],
   "source": [
    "for i in range(len(X_test)):\n",
    "    compare(i, X_test, Y_test)"
   ]
  }
 ],
 "metadata": {
  "kernelspec": {
   "display_name": "Python 3",
   "language": "python",
   "name": "python3"
  },
  "language_info": {
   "codemirror_mode": {
    "name": "ipython",
    "version": 3
   },
   "file_extension": ".py",
   "mimetype": "text/x-python",
   "name": "python",
   "nbconvert_exporter": "python",
   "pygments_lexer": "ipython3",
   "version": "3.6.9"
  }
 },
 "nbformat": 4,
 "nbformat_minor": 2
}
