{
  "nbformat": 4,
  "nbformat_minor": 0,
  "metadata": {
    "colab": {
      "name": "Untitled0.ipynb",
      "provenance": []
    },
    "kernelspec": {
      "name": "python3",
      "display_name": "Python 3"
    }
  },
  "cells": [
    {
      "cell_type": "code",
      "metadata": {
        "id": "DaZDQ3nMUm0g",
        "colab_type": "code",
        "colab": {
          "base_uri": "https://localhost:8080/",
          "height": 55
        },
        "outputId": "18499574-d838-4dbc-8e04-ab8c9101e025"
      },
      "source": [
        "from google.colab import drive\n",
        "drive.mount('/content/drive')"
      ],
      "execution_count": 8,
      "outputs": [
        {
          "output_type": "stream",
          "text": [
            "Drive already mounted at /content/drive; to attempt to forcibly remount, call drive.mount(\"/content/drive\", force_remount=True).\n"
          ],
          "name": "stdout"
        }
      ]
    },
    {
      "cell_type": "code",
      "metadata": {
        "id": "iBmBI6J4U5C5",
        "colab_type": "code",
        "colab": {
          "base_uri": "https://localhost:8080/",
          "height": 35
        },
        "outputId": "26dbf0df-fe14-4042-bbd5-7a037309a06f"
      },
      "source": [
        "!git clone https://github.com/thongvhoang/Statistical-machine-learning.git Statistical-machine-learning"
      ],
      "execution_count": 9,
      "outputs": [
        {
          "output_type": "stream",
          "text": [
            "fatal: destination path 'Statistical-machine-learning' already exists and is not an empty directory.\n"
          ],
          "name": "stdout"
        }
      ]
    },
    {
      "cell_type": "code",
      "metadata": {
        "id": "JunIc1JXSM3o",
        "colab_type": "code",
        "colab": {}
      },
      "source": [
        "import numpy as np\n",
        "import pandas as pd\n",
        "import seaborn as sns\n",
        "from matplotlib import pyplot as plt\n",
        "from sklearn.preprocessing import PolynomialFeatures, StandardScaler\n",
        "from sklearn.linear_model import LinearRegression\n",
        "from sklearn.metrics import r2_score\n",
        "from sklearn.svm import SVR"
      ],
      "execution_count": 0,
      "outputs": []
    },
    {
      "cell_type": "code",
      "metadata": {
        "id": "xbxrEEdsVW9X",
        "colab_type": "code",
        "colab": {
          "base_uri": "https://localhost:8080/",
          "height": 266
        },
        "outputId": "f3702220-d029-416b-ac18-66872cfe8605"
      },
      "source": [
        "dataset_train = pd.read_csv(\"Statistical-machine-learning/Learn-support-vector-regression/Datasets/Position_SalariesTrain.csv\")\n",
        "dataset_test = pd.read_csv(\"Statistical-machine-learning/Learn-support-vector-regression/Datasets/Position_SalariesTest.csv\")\n",
        "dataset_train"
      ],
      "execution_count": 11,
      "outputs": [
        {
          "output_type": "execute_result",
          "data": {
            "text/html": [
              "<div>\n",
              "<style scoped>\n",
              "    .dataframe tbody tr th:only-of-type {\n",
              "        vertical-align: middle;\n",
              "    }\n",
              "\n",
              "    .dataframe tbody tr th {\n",
              "        vertical-align: top;\n",
              "    }\n",
              "\n",
              "    .dataframe thead th {\n",
              "        text-align: right;\n",
              "    }\n",
              "</style>\n",
              "<table border=\"1\" class=\"dataframe\">\n",
              "  <thead>\n",
              "    <tr style=\"text-align: right;\">\n",
              "      <th></th>\n",
              "      <th>Position</th>\n",
              "      <th>Level</th>\n",
              "      <th>Salary</th>\n",
              "    </tr>\n",
              "  </thead>\n",
              "  <tbody>\n",
              "    <tr>\n",
              "      <th>0</th>\n",
              "      <td>Business Analyst</td>\n",
              "      <td>1</td>\n",
              "      <td>45000</td>\n",
              "    </tr>\n",
              "    <tr>\n",
              "      <th>1</th>\n",
              "      <td>Junior Consultant</td>\n",
              "      <td>2</td>\n",
              "      <td>50000</td>\n",
              "    </tr>\n",
              "    <tr>\n",
              "      <th>2</th>\n",
              "      <td>Manager</td>\n",
              "      <td>4</td>\n",
              "      <td>80000</td>\n",
              "    </tr>\n",
              "    <tr>\n",
              "      <th>3</th>\n",
              "      <td>Region Manager</td>\n",
              "      <td>6</td>\n",
              "      <td>150000</td>\n",
              "    </tr>\n",
              "    <tr>\n",
              "      <th>4</th>\n",
              "      <td>Partner</td>\n",
              "      <td>7</td>\n",
              "      <td>200000</td>\n",
              "    </tr>\n",
              "    <tr>\n",
              "      <th>5</th>\n",
              "      <td>Senior Partner</td>\n",
              "      <td>8</td>\n",
              "      <td>300000</td>\n",
              "    </tr>\n",
              "    <tr>\n",
              "      <th>6</th>\n",
              "      <td>CEO</td>\n",
              "      <td>10</td>\n",
              "      <td>1000000</td>\n",
              "    </tr>\n",
              "  </tbody>\n",
              "</table>\n",
              "</div>"
            ],
            "text/plain": [
              "            Position  Level   Salary\n",
              "0   Business Analyst      1    45000\n",
              "1  Junior Consultant      2    50000\n",
              "2            Manager      4    80000\n",
              "3     Region Manager      6   150000\n",
              "4            Partner      7   200000\n",
              "5     Senior Partner      8   300000\n",
              "6                CEO     10  1000000"
            ]
          },
          "metadata": {
            "tags": []
          },
          "execution_count": 11
        }
      ]
    },
    {
      "cell_type": "code",
      "metadata": {
        "id": "4SIISOyRWGDF",
        "colab_type": "code",
        "colab": {}
      },
      "source": [
        "X_train = dataset_train.iloc[:,1:-1].values\n",
        "Y_train = dataset_train.iloc[:,-1].values.reshape(-1,1)\n",
        "X_test = dataset_test.iloc[:,1:-1].values\n",
        "Y_test = dataset_test.iloc[:,-1].values.reshape(-1,1)"
      ],
      "execution_count": 0,
      "outputs": []
    },
    {
      "cell_type": "code",
      "metadata": {
        "id": "QJCAaPOXW75j",
        "colab_type": "code",
        "colab": {
          "base_uri": "https://localhost:8080/",
          "height": 109
        },
        "outputId": "f0d1e30d-65b7-4d4d-8fac-75d04235d6d3"
      },
      "source": [
        "SC_X = StandardScaler()\n",
        "SC_Y = StandardScaler()\n",
        "X_trans = SC_X.fit_transform(X_train)\n",
        "Y_trans = SC_Y.fit_transform(Y_train)\n",
        "svr = SVR(kernel = \"rbf\")\n",
        "svr.fit(X_trans, Y_trans)"
      ],
      "execution_count": 13,
      "outputs": [
        {
          "output_type": "stream",
          "text": [
            "/usr/local/lib/python3.6/dist-packages/sklearn/utils/validation.py:760: DataConversionWarning: A column-vector y was passed when a 1d array was expected. Please change the shape of y to (n_samples, ), for example using ravel().\n",
            "  y = column_or_1d(y, warn=True)\n"
          ],
          "name": "stderr"
        },
        {
          "output_type": "execute_result",
          "data": {
            "text/plain": [
              "SVR(C=1.0, cache_size=200, coef0=0.0, degree=3, epsilon=0.1, gamma='scale',\n",
              "    kernel='rbf', max_iter=-1, shrinking=True, tol=0.001, verbose=False)"
            ]
          },
          "metadata": {
            "tags": []
          },
          "execution_count": 13
        }
      ]
    },
    {
      "cell_type": "code",
      "metadata": {
        "id": "CiSN1maMXFL2",
        "colab_type": "code",
        "colab": {}
      },
      "source": [
        "def predict(model, X, SC_X, SC_Y):\n",
        "    X_trans = SC_X.transform(X)\n",
        "    Y_trans_pred = model.predict(X_trans)\n",
        "    Y_pred = SC_Y.inverse_transform(Y_trans_pred)\n",
        "    return Y_pred\n",
        "Y_pred = predict(svr, X_train, SC_X, SC_Y)"
      ],
      "execution_count": 0,
      "outputs": []
    },
    {
      "cell_type": "code",
      "metadata": {
        "id": "ZP5kiZItXF1i",
        "colab_type": "code",
        "colab": {
          "base_uri": "https://localhost:8080/",
          "height": 346
        },
        "outputId": "687de650-8bb8-4c02-e9fe-682c825e1832"
      },
      "source": [
        "plt.figure(figsize=(15,5))\n",
        "plt.subplot(1,3,1)\n",
        "plt.scatter(X_train, Y_train, color = \"red\")\n",
        "plt.title(\"Position Level vs Salary\")\n",
        "plt.xlabel(\"Position Level\")\n",
        "plt.ylabel(\"Salary (dollars/year)\")\n",
        "\n",
        "plt.subplot(1,3,2)\n",
        "plt.scatter(X_trans, Y_trans, color = \"red\")\n",
        "plt.title(\"Position vs Salary Shape\")\n",
        "plt.xlabel(\"Position level in scaling\")\n",
        "plt.ylabel(\"Salary in scaling\")\n",
        "\n",
        "plt.subplot(1,3,3)\n",
        "plt.scatter(X_train, Y_train, color = \"red\")\n",
        "plt.plot(X_train, Y_pred, color = \"blue\")\n",
        "plt.title(\"Position vs Salary\")\n",
        "plt.xlabel(\"Position Level\")\n",
        "plt.ylabel(\"Salary (dollars/year)\")\n",
        "\n",
        "plt.show()\n"
      ],
      "execution_count": 15,
      "outputs": [
        {
          "output_type": "display_data",
          "data": {
            "image/png": "[encoded data removed]",
            "text/plain": [
              "<Figure size 1080x360 with 3 Axes>"
            ]
          },
          "metadata": {
            "tags": [],
            "needs_background": "light"
          }
        }
      ]
    },
    {
      "cell_type": "code",
      "metadata": {
        "id": "HAm0yA46XbpZ",
        "colab_type": "code",
        "colab": {
          "base_uri": "https://localhost:8080/",
          "height": 346
        },
        "outputId": "e5d78cd5-4e04-4a62-b695-181db04eadbe"
      },
      "source": [
        "X_dummy_train = np.arange(0, 10, 0.1).reshape(-1, 1)\n",
        "Y_dummy_train_pred = predict(svr, X_dummy_train, SC_X, SC_Y)\n",
        "\n",
        "X_dummy_test = np.arange(0, 10, 0.1).reshape(-1, 1)\n",
        "Y_dummy_test_pred = predict(svr, X_dummy_test, SC_X, SC_Y)\n",
        "\n",
        "plt.figure(figsize=(15,5))\n",
        "\n",
        "plt.subplot(1,2,1)\n",
        "plt.scatter(X_train, Y_train, color = \"red\")\n",
        "plt.plot(X_dummy_train, Y_dummy_train_pred, color = \"blue\")\n",
        "plt.title(\"Position Level vs Salary (Training Set)\")\n",
        "plt.xlabel(\"Position Level\")\n",
        "plt.ylabel(\"Salary (dollars/year)\")\n",
        "\n",
        "plt.subplot(1,2,2)\n",
        "plt.scatter(X_test, Y_test, color = \"red\")\n",
        "plt.plot(X_dummy_test, Y_dummy_test_pred, color = \"blue\")\n",
        "plt.title(\"Position Level vs Salary (Testing Set)\")\n",
        "plt.xlabel(\"Position Level\")\n",
        "plt.ylabel(\"Salary (dollars/year)\")\n",
        "\n",
        "plt.savefig(\"TrainTest.png\",dpi=120)\n",
        "plt.show()"
      ],
      "execution_count": 16,
      "outputs": [
        {
          "output_type": "display_data",
          "data": {
            "image/png": "[encoded data removed]",
            "text/plain": [
              "<Figure size 1080x360 with 2 Axes>"
            ]
          },
          "metadata": {
            "tags": [],
            "needs_background": "light"
          }
        }
      ]
    },
    {
      "cell_type": "code",
      "metadata": {
        "id": "-8LQXjK3XeZy",
        "colab_type": "code",
        "colab": {
          "base_uri": "https://localhost:8080/",
          "height": 53
        },
        "outputId": "e249e30b-2ccd-48a0-df86-6c68d86f2b09"
      },
      "source": [
        "Y_test_pred = predict(svr, X_test, SC_X, SC_Y)\n",
        "print(r2_score(Y_train,Y_pred))\n",
        "print(r2_score(Y_test,Y_test_pred))"
      ],
      "execution_count": 17,
      "outputs": [
        {
          "output_type": "stream",
          "text": [
            "0.6338239329592488\n",
            "0.9545339690278688\n"
          ],
          "name": "stdout"
        }
      ]
    },
    {
      "cell_type": "code",
      "metadata": {
        "id": "VdBg7KIkXg18",
        "colab_type": "code",
        "colab": {}
      },
      "source": [
        "def compare(i_example, X, Y):\n",
        "    x = X[i_example : i_example + 1]\n",
        "    y = Y[i_example]\n",
        "    y_pred = predict(svr, x, SC_X, SC_Y)\n",
        "    print(x, y, y_pred)"
      ],
      "execution_count": 0,
      "outputs": []
    },
    {
      "cell_type": "code",
      "metadata": {
        "id": "1uNX5eFBXiq4",
        "colab_type": "code",
        "colab": {
          "base_uri": "https://localhost:8080/",
          "height": 71
        },
        "outputId": "33a21d01-d537-4793-cabb-7f337ccd0f94"
      },
      "source": [
        "for i in range(len(X_test)):\n",
        "    compare(i,X_test,Y_test)"
      ],
      "execution_count": 19,
      "outputs": [
        {
          "output_type": "stream",
          "text": [
            "[[9]] [500000] [438051.50571149]\n",
            "[[3]] [60000] [90226.13294714]\n",
            "[[5]] [110000] [132931.54168274]\n"
          ],
          "name": "stdout"
        }
      ]
    }
  ]
}