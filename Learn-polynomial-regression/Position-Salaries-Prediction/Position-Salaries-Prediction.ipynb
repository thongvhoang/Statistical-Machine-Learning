{
 "cells": [
  {
   "cell_type": "code",
   "execution_count": 16,
   "metadata": {},
   "outputs": [],
   "source": [
    "#Import the libraries\n",
    "\n",
    "import numpy as np\n",
    "import pandas as pd\n",
    "import seaborn as sns\n",
    "from matplotlib import pyplot as plt\n",
    "from sklearn.preprocessing import PolynomialFeatures\n",
    "from sklearn.linear_model import LinearRegression"
   ]
  },
  {
   "cell_type": "code",
   "execution_count": 3,
   "metadata": {},
   "outputs": [
    {
     "data": {
      "text/html": [
       "<div>\n",
       "<style scoped>\n",
       "    .dataframe tbody tr th:only-of-type {\n",
       "        vertical-align: middle;\n",
       "    }\n",
       "\n",
       "    .dataframe tbody tr th {\n",
       "        vertical-align: top;\n",
       "    }\n",
       "\n",
       "    .dataframe thead th {\n",
       "        text-align: right;\n",
       "    }\n",
       "</style>\n",
       "<table border=\"1\" class=\"dataframe\">\n",
       "  <thead>\n",
       "    <tr style=\"text-align: right;\">\n",
       "      <th></th>\n",
       "      <th>Position</th>\n",
       "      <th>Level</th>\n",
       "      <th>Salary</th>\n",
       "    </tr>\n",
       "  </thead>\n",
       "  <tbody>\n",
       "    <tr>\n",
       "      <th>0</th>\n",
       "      <td>Business Analyst</td>\n",
       "      <td>1</td>\n",
       "      <td>45000</td>\n",
       "    </tr>\n",
       "    <tr>\n",
       "      <th>1</th>\n",
       "      <td>Junior Consultant</td>\n",
       "      <td>2</td>\n",
       "      <td>50000</td>\n",
       "    </tr>\n",
       "    <tr>\n",
       "      <th>2</th>\n",
       "      <td>Manager</td>\n",
       "      <td>4</td>\n",
       "      <td>80000</td>\n",
       "    </tr>\n",
       "    <tr>\n",
       "      <th>3</th>\n",
       "      <td>Region Manager</td>\n",
       "      <td>6</td>\n",
       "      <td>150000</td>\n",
       "    </tr>\n",
       "    <tr>\n",
       "      <th>4</th>\n",
       "      <td>Partner</td>\n",
       "      <td>7</td>\n",
       "      <td>200000</td>\n",
       "    </tr>\n",
       "    <tr>\n",
       "      <th>5</th>\n",
       "      <td>Senior Partner</td>\n",
       "      <td>8</td>\n",
       "      <td>300000</td>\n",
       "    </tr>\n",
       "    <tr>\n",
       "      <th>6</th>\n",
       "      <td>CEO</td>\n",
       "      <td>10</td>\n",
       "      <td>1000000</td>\n",
       "    </tr>\n",
       "  </tbody>\n",
       "</table>\n",
       "</div>"
      ],
      "text/plain": [
       "            Position  Level   Salary\n",
       "0   Business Analyst      1    45000\n",
       "1  Junior Consultant      2    50000\n",
       "2            Manager      4    80000\n",
       "3     Region Manager      6   150000\n",
       "4            Partner      7   200000\n",
       "5     Senior Partner      8   300000\n",
       "6                CEO     10  1000000"
      ]
     },
     "execution_count": 3,
     "metadata": {},
     "output_type": "execute_result"
    }
   ],
   "source": [
    "Trainingsets = pd.read_csv(\"/home/tintin/Study/Data-science/Statistical-machine-learning/Learn-polynomial-regression/Datasets/Position_SalariesTrain.csv\")\n",
    "Testingsets = pd.read_csv(\"/home/tintin/Study/Data-science/Statistical-machine-learning/Learn-polynomial-regression/Datasets/Position_SalariesTest.csv\")\n",
    "Trainingsets"
   ]
  },
  {
   "cell_type": "code",
   "execution_count": 4,
   "metadata": {},
   "outputs": [],
   "source": [
    "X_train = Trainingsets.iloc[:,1:2].values\n",
    "Y_train = Trainingsets.iloc[:,2].values\n",
    "X_test = Testingsets.iloc[:,1:2].values\n",
    "Y_test = Testingsets.iloc[:,2].values"
   ]
  },
  {
   "cell_type": "code",
   "execution_count": 7,
   "metadata": {},
   "outputs": [
    {
     "data": {
      "image/png": "[encoded data removed]",
      "text/plain": [
       "<Figure size 432x288 with 1 Axes>"
      ]
     },
     "metadata": {},
     "output_type": "display_data"
    }
   ],
   "source": [
    "plt.scatter(X_train, Y_train, color = \"red\")\n",
    "plt.title(\"Position Level vs Salary\")\n",
    "plt.xlabel(\"Position Level\")\n",
    "plt.ylabel(\"Salary (dollars/year)\")\n",
    "plt.show()"
   ]
  },
  {
   "cell_type": "code",
   "execution_count": 14,
   "metadata": {},
   "outputs": [],
   "source": [
    "poly_transform = PolynomialFeatures(degree=4)\n",
    "X_poly = poly_transform.fit_transform(X_train)"
   ]
  },
  {
   "cell_type": "code",
   "execution_count": 18,
   "metadata": {},
   "outputs": [
    {
     "data": {
      "text/plain": [
       "LinearRegression(copy_X=True, fit_intercept=True, n_jobs=None,\n",
       "         normalize=False)"
      ]
     },
     "execution_count": 18,
     "metadata": {},
     "output_type": "execute_result"
    }
   ],
   "source": [
    "lin_reg = LinearRegression()\n",
    "lin_reg.fit(X_train, Y_train)"
   ]
  },
  {
   "cell_type": "code",
   "execution_count": 19,
   "metadata": {},
   "outputs": [
    {
     "data": {
      "text/plain": [
       "LinearRegression(copy_X=True, fit_intercept=True, n_jobs=None,\n",
       "         normalize=False)"
      ]
     },
     "execution_count": 19,
     "metadata": {},
     "output_type": "execute_result"
    }
   ],
   "source": [
    "poly_lin_reg = LinearRegression()\n",
    "poly_lin_reg.fit(X_poly, Y_train)"
   ]
  },
  {
   "cell_type": "code",
   "execution_count": 21,
   "metadata": {},
   "outputs": [
    {
     "data": {
      "image/png": "[encoded data removed]",
      "text/plain": [
       "<Figure size 1080x360 with 2 Axes>"
      ]
     },
     "metadata": {},
     "output_type": "display_data"
    }
   ],
   "source": [
    "plt.figure(figsize=(15,5))\n",
    "\n",
    "Y_pred = lin_reg.predict(X_train)\n",
    "plt.subplot(1,2,1)\n",
    "plt.scatter(X_train, Y_train, color=\"red\")\n",
    "plt.plot(X_train, Y_pred, color = \"blue\")\n",
    "plt.title(\"Position Level vs Salary\")\n",
    "plt.xlabel(\"Position Level\")\n",
    "plt.ylabel(\"Salary (dollars/year)\")\n",
    "\n",
    "Y_poly_pred = poly_lin_reg.predict(X_poly)\n",
    "plt.subplot(1,2,2)\n",
    "plt.scatter(X_train, Y_train, color = \"red\")\n",
    "plt.plot(X_train, Y_poly_pred, color = \"blue\")\n",
    "plt.title(\"Position Level vs Salary\")\n",
    "plt.xlabel(\"Position Level\")\n",
    "plt.ylabel(\"Salary (dollars/year)\")\n",
    "plt.show()"
   ]
  },
  {
   "cell_type": "code",
   "execution_count": 24,
   "metadata": {},
   "outputs": [
    {
     "data": {
      "image/png": "[encoded data removed]",
      "text/plain": [
       "<Figure size 432x288 with 1 Axes>"
      ]
     },
     "metadata": {},
     "output_type": "display_data"
    }
   ],
   "source": [
    "X_dummy = np.arange(0, 11, 0.1).reshape(-1,1)\n",
    "X_dummy_poly = poly_transform.transform(X_dummy)\n",
    "Y_dummy_poly_pred = poly_lin_reg.predict(X_dummy_poly)\n",
    "plt.scatter(X_train, Y_train, color = \"red\")\n",
    "plt.plot(X_dummy, Y_dummy_poly_pred, color = \"blue\")\n",
    "plt.title(\"Position Level vs Salary\")\n",
    "plt.xlabel(\"Position Level\")\n",
    "plt.ylabel(\"Salary (dollars/year)\")\n",
    "plt.show()"
   ]
  },
  {
   "cell_type": "code",
   "execution_count": 29,
   "metadata": {},
   "outputs": [],
   "source": [
    "def compare(i_example):\n",
    "    x = X_train[i_example : i_example + 1]\n",
    "    x_poly = poly_transform.transform(X_train)\n",
    "    y = Y_train[i_example]\n",
    "    y_pred = poly_lin_reg.predict(x_poly)\n",
    "    print(x, y, y_pred)\n",
    "    "
   ]
  },
  {
   "cell_type": "code",
   "execution_count": 30,
   "metadata": {},
   "outputs": [
    {
     "name": "stdout",
     "output_type": "stream",
     "text": [
      "[[1]] 45000 [ 49362.62767401  39437.83599634  93154.93846959 142336.31628538\n",
      " 192576.42505221 309614.74592329 998517.11059916]\n",
      "[[2]] 50000 [ 49362.62767401  39437.83599634  93154.93846959 142336.31628538\n",
      " 192576.42505221 309614.74592329 998517.11059916]\n",
      "[[4]] 80000 [ 49362.62767401  39437.83599634  93154.93846959 142336.31628538\n",
      " 192576.42505221 309614.74592329 998517.11059916]\n",
      "[[6]] 150000 [ 49362.62767401  39437.83599634  93154.93846959 142336.31628538\n",
      " 192576.42505221 309614.74592329 998517.11059916]\n",
      "[[7]] 200000 [ 49362.62767401  39437.83599634  93154.93846959 142336.31628538\n",
      " 192576.42505221 309614.74592329 998517.11059916]\n",
      "[[8]] 300000 [ 49362.62767401  39437.83599634  93154.93846959 142336.31628538\n",
      " 192576.42505221 309614.74592329 998517.11059916]\n",
      "[[10]] 1000000 [ 49362.62767401  39437.83599634  93154.93846959 142336.31628538\n",
      " 192576.42505221 309614.74592329 998517.11059916]\n"
     ]
    }
   ],
   "source": [
    "for i in range(len(X_train)):\n",
    "    compare(i)"
   ]
  }
 ],
 "metadata": {
  "kernelspec": {
   "display_name": "Python 3",
   "language": "python",
   "name": "python3"
  },
  "language_info": {
   "codemirror_mode": {
    "name": "ipython",
    "version": 3
   },
   "file_extension": ".py",
   "mimetype": "text/x-python",
   "name": "python",
   "nbconvert_exporter": "python",
   "pygments_lexer": "ipython3",
   "version": "3.6.9"
  }
 },
 "nbformat": 4,
 "nbformat_minor": 2
}
